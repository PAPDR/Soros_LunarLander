{
 "cells": [
  {
   "cell_type": "markdown",
   "metadata": {
    "id": "MGd1FZds50JL"
   },
   "source": [
    "# Notes\n",
    "The program seems to run normally, but the created map does not seem to be correct. I think the \"self.individual\" value is incorrect\n",
    "\n",
    "The range for the y_vel is from 0 to -3\n",
    "The range for x_pos is -1 to 1\n",
    "\n",
    "Scores should always be above -600 for the simualtions, so we need to add an offset of 600, so the results are always above 0. Thi\n",
    "\n",
    "\n",
    "# TO-DO\n",
    "- Add new simulation code, may want to use the code in CMA-ME Tutorial\n",
    "the while loop to run simulation\n",
    "- Add evolutionary process. Need to figure out how.\n",
    "\n",
    "\n",
    "# Fixed\n",
    "- Heatmap fixed, but needs more testing"
   ]
  },
  {
   "cell_type": "markdown",
   "metadata": {
    "id": "bR7D_P4hk8Bj"
   },
   "source": [
    "# Important Links\n",
    "\n",
    "https://docs.pyribs.org/en/stable/tutorials/lunar_lander.html#setup\n",
    "Has the original lunarlander tutorial from pyribs\n",
    "\n",
    "Lunar Lander Documentation from Gym\n",
    "https://gymnasium.farama.org/environments/box2d/lunar_lander/"
   ]
  },
  {
   "cell_type": "code",
   "execution_count": 1,
   "metadata": {
    "colab": {
     "base_uri": "https://localhost:8080/"
    },
    "id": "6Mk3t6xP40xW",
    "outputId": "5ded7b85-9f94-4f1b-c49d-1492bf33d7b5"
   },
   "outputs": [
    {
     "name": "stdout",
     "output_type": "stream",
     "text": [
      "Requirement already satisfied: swig in d:\\code\\anaconda\\envs\\spyder\\lib\\site-packages (4.1.1)Note: you may need to restart the kernel to use updated packages.\n",
      "\n"
     ]
    }
   ],
   "source": [
    "pip install swig"
   ]
  },
  {
   "cell_type": "code",
   "execution_count": 2,
   "metadata": {
    "colab": {
     "base_uri": "https://localhost:8080/"
    },
    "id": "FCO0K_pq0-Sd",
    "outputId": "421cb527-f779-4bcd-9711-512491154d48"
   },
   "outputs": [
    {
     "name": "stdout",
     "output_type": "stream",
     "text": [
      "Requirement already satisfied: ribs[visualize] in d:\\code\\anaconda\\envs\\spyder\\lib\\site-packages (0.5.0)\n",
      "Requirement already satisfied: gymnasium[box2d]==0.27.0 in d:\\code\\anaconda\\envs\\spyder\\lib\\site-packages (0.27.0)\n",
      "Requirement already satisfied: moviepy>=1.0.0 in d:\\code\\anaconda\\envs\\spyder\\lib\\site-packages (1.0.3)\n",
      "Requirement already satisfied: shimmy<1.0,>=0.1.0 in d:\\code\\anaconda\\envs\\spyder\\lib\\site-packages (from gymnasium[box2d]==0.27.0) (0.2.1)\n",
      "Requirement already satisfied: cloudpickle>=1.2.0 in d:\\code\\anaconda\\envs\\spyder\\lib\\site-packages (from gymnasium[box2d]==0.27.0) (2.0.0)\n",
      "Requirement already satisfied: typing-extensions>=4.3.0 in d:\\code\\anaconda\\envs\\spyder\\lib\\site-packages (from gymnasium[box2d]==0.27.0) (4.3.0)\n",
      "Requirement already satisfied: jax-jumpy>=0.2.0 in d:\\code\\anaconda\\envs\\spyder\\lib\\site-packages (from gymnasium[box2d]==0.27.0) (0.2.0)\n",
      "Requirement already satisfied: numpy>=1.21.0 in d:\\code\\anaconda\\envs\\spyder\\lib\\site-packages (from gymnasium[box2d]==0.27.0) (1.23.5)\n",
      "Requirement already satisfied: gymnasium-notices>=0.0.1 in d:\\code\\anaconda\\envs\\spyder\\lib\\site-packages (from gymnasium[box2d]==0.27.0) (0.0.1)\n",
      "Requirement already satisfied: swig==4.* in d:\\code\\anaconda\\envs\\spyder\\lib\\site-packages (from gymnasium[box2d]==0.27.0) (4.1.1)\n",
      "Requirement already satisfied: box2d-py==2.3.5 in d:\\code\\anaconda\\envs\\spyder\\lib\\site-packages (from gymnasium[box2d]==0.27.0) (2.3.5)\n",
      "Requirement already satisfied: pygame==2.1.3.dev8 in d:\\code\\anaconda\\envs\\spyder\\lib\\site-packages (from gymnasium[box2d]==0.27.0) (2.1.3.dev8)\n",
      "Requirement already satisfied: scipy>=1.4.0 in d:\\code\\anaconda\\envs\\spyder\\lib\\site-packages (from ribs[visualize]) (1.9.3)\n",
      "Requirement already satisfied: numba>=0.51.0 in d:\\code\\anaconda\\envs\\spyder\\lib\\site-packages (from ribs[visualize]) (0.56.4)\n",
      "Requirement already satisfied: threadpoolctl>=3.0.0 in d:\\code\\anaconda\\envs\\spyder\\lib\\site-packages (from ribs[visualize]) (3.1.0)\n",
      "Requirement already satisfied: semantic-version>=2.10 in d:\\code\\anaconda\\envs\\spyder\\lib\\site-packages (from ribs[visualize]) (2.10.0)\n",
      "Requirement already satisfied: numpy-groupies>=0.9.16 in d:\\code\\anaconda\\envs\\spyder\\lib\\site-packages (from ribs[visualize]) (0.9.20)\n",
      "Requirement already satisfied: scikit-learn>=0.20.0 in d:\\code\\anaconda\\envs\\spyder\\lib\\site-packages (from ribs[visualize]) (1.1.3)\n",
      "Requirement already satisfied: sortedcontainers>=2.0.0 in d:\\code\\anaconda\\envs\\spyder\\lib\\site-packages (from ribs[visualize]) (2.4.0)\n",
      "Requirement already satisfied: pandas>=1.0.0 in d:\\code\\anaconda\\envs\\spyder\\lib\\site-packages (from ribs[visualize]) (1.5.2)\n",
      "Requirement already satisfied: matplotlib>=3.0.0 in d:\\code\\anaconda\\envs\\spyder\\lib\\site-packages (from ribs[visualize]) (3.6.2)\n",
      "Requirement already satisfied: requests<3.0,>=2.8.1 in d:\\code\\anaconda\\envs\\spyder\\lib\\site-packages (from moviepy>=1.0.0) (2.21.0)\n",
      "Requirement already satisfied: imageio-ffmpeg>=0.2.0 in d:\\code\\anaconda\\envs\\spyder\\lib\\site-packages (from moviepy>=1.0.0) (0.4.8)\n",
      "Requirement already satisfied: decorator<5.0,>=4.0.2 in d:\\code\\anaconda\\envs\\spyder\\lib\\site-packages (from moviepy>=1.0.0) (4.4.2)\n",
      "Requirement already satisfied: imageio<3.0,>=2.5 in d:\\code\\anaconda\\envs\\spyder\\lib\\site-packages (from moviepy>=1.0.0) (2.25.1)\n",
      "Requirement already satisfied: proglog<=1.0.0 in d:\\code\\anaconda\\envs\\spyder\\lib\\site-packages (from moviepy>=1.0.0) (0.1.10)\n",
      "Requirement already satisfied: tqdm<5.0,>=4.11.2 in d:\\code\\anaconda\\envs\\spyder\\lib\\site-packages (from moviepy>=1.0.0) (4.64.1)\n",
      "Requirement already satisfied: pillow>=8.3.2 in d:\\code\\anaconda\\envs\\spyder\\lib\\site-packages (from imageio<3.0,>=2.5->moviepy>=1.0.0) (9.3.0)\n",
      "Requirement already satisfied: fonttools>=4.22.0 in d:\\code\\anaconda\\envs\\spyder\\lib\\site-packages (from matplotlib>=3.0.0->ribs[visualize]) (4.38.0)\n",
      "Requirement already satisfied: kiwisolver>=1.0.1 in d:\\code\\anaconda\\envs\\spyder\\lib\\site-packages (from matplotlib>=3.0.0->ribs[visualize]) (1.4.4)\n",
      "Requirement already satisfied: packaging>=20.0 in d:\\code\\anaconda\\envs\\spyder\\lib\\site-packages (from matplotlib>=3.0.0->ribs[visualize]) (21.3)\n",
      "Requirement already satisfied: cycler>=0.10 in d:\\code\\anaconda\\envs\\spyder\\lib\\site-packages (from matplotlib>=3.0.0->ribs[visualize]) (0.11.0)\n",
      "Requirement already satisfied: contourpy>=1.0.1 in d:\\code\\anaconda\\envs\\spyder\\lib\\site-packages (from matplotlib>=3.0.0->ribs[visualize]) (1.0.6)\n",
      "Requirement already satisfied: pyparsing>=2.2.1 in d:\\code\\anaconda\\envs\\spyder\\lib\\site-packages (from matplotlib>=3.0.0->ribs[visualize]) (3.0.9)\n",
      "Requirement already satisfied: python-dateutil>=2.7 in d:\\code\\anaconda\\envs\\spyder\\lib\\site-packages (from matplotlib>=3.0.0->ribs[visualize]) (2.8.2)\n",
      "Requirement already satisfied: llvmlite<0.40,>=0.39.0dev0 in d:\\code\\anaconda\\envs\\spyder\\lib\\site-packages (from numba>=0.51.0->ribs[visualize]) (0.39.1)\n",
      "Requirement already satisfied: setuptools in d:\\code\\anaconda\\envs\\spyder\\lib\\site-packages (from numba>=0.51.0->ribs[visualize]) (65.5.0)\n",
      "Requirement already satisfied: pytz>=2020.1 in d:\\code\\anaconda\\envs\\spyder\\lib\\site-packages (from pandas>=1.0.0->ribs[visualize]) (2022.1)\n",
      "Requirement already satisfied: chardet<3.1.0,>=3.0.2 in d:\\code\\anaconda\\envs\\spyder\\lib\\site-packages (from requests<3.0,>=2.8.1->moviepy>=1.0.0) (3.0.4)\n",
      "Requirement already satisfied: idna<2.9,>=2.5 in d:\\code\\anaconda\\envs\\spyder\\lib\\site-packages (from requests<3.0,>=2.8.1->moviepy>=1.0.0) (2.8)\n",
      "Requirement already satisfied: urllib3<1.25,>=1.21.1 in d:\\code\\anaconda\\envs\\spyder\\lib\\site-packages (from requests<3.0,>=2.8.1->moviepy>=1.0.0) (1.24.3)\n",
      "Requirement already satisfied: certifi>=2017.4.17 in d:\\code\\anaconda\\envs\\spyder\\lib\\site-packages (from requests<3.0,>=2.8.1->moviepy>=1.0.0) (2023.5.7)\n",
      "Requirement already satisfied: joblib>=1.0.0 in d:\\code\\anaconda\\envs\\spyder\\lib\\site-packages (from scikit-learn>=0.20.0->ribs[visualize]) (1.2.0)\n",
      "Requirement already satisfied: colorama in d:\\code\\anaconda\\envs\\spyder\\lib\\site-packages (from tqdm<5.0,>=4.11.2->moviepy>=1.0.0) (0.4.5)\n",
      "Requirement already satisfied: six>=1.5 in d:\\code\\anaconda\\envs\\spyder\\lib\\site-packages (from python-dateutil>=2.7->matplotlib>=3.0.0->ribs[visualize]) (1.12.0)\n",
      "Note: you may need to restart the kernel to use updated packages.\n"
     ]
    }
   ],
   "source": [
    "pip install ribs[visualize] gymnasium[box2d]==0.27.0 \"moviepy>=1.0.0\""
   ]
  },
  {
   "cell_type": "code",
   "execution_count": 3,
   "metadata": {
    "colab": {
     "base_uri": "https://localhost:8080/"
    },
    "id": "Bu2SQZNO01_X",
    "outputId": "b6c52fd9-f9ad-4509-93bd-34ad54e70492"
   },
   "outputs": [],
   "source": [
    "import gym\n",
    "import numpy as np\n",
    "import random\n",
    "import matplotlib.pyplot as plt\n",
    "\n",
    "# Lunar Lander simulation environment\n",
    "env = gym.make(\"LunarLander-v2\")\n",
    "new_step_api=True\n",
    "\n",
    "# Seed for all environments in this notebook.\n",
    "env_seed = 52"
   ]
  },
  {
   "cell_type": "markdown",
   "metadata": {
    "id": "bzct2QCaZcPS"
   },
   "source": []
  },
  {
   "cell_type": "code",
   "execution_count": null,
   "metadata": {
    "id": "Tkgw2mkWYulT"
   },
   "outputs": [],
   "source": []
  },
  {
   "cell_type": "code",
   "execution_count": 4,
   "metadata": {
    "id": "wU2fU8731QWt"
   },
   "outputs": [],
   "source": [
    "class GameEvaluator:\n",
    "    def __init__(self, seed=1009, num_rep=1):\n",
    "        self.env = env\n",
    "        self.seed = seed\n",
    "        self.num_rep = num_rep\n",
    "        self.num_actions = self.env.action_space.n\n",
    "        #print(self.num_actions)\n",
    "\n",
    "    def run(self, agent, render=False):\n",
    "        agent.fitness = 0\n",
    "        observation = env.reset(seed=self.seed)\n",
    "\n",
    "        action_frequency = [0] * self.num_actions\n",
    "\n",
    "        action_count = 0\n",
    "        done = False\n",
    "\n",
    "        #The sumulation\n",
    "        while not done:\n",
    "            #if render:\n",
    "            #    env.render()\n",
    "\n",
    "            pos = min(action_count//self.num_rep, len(agent.commands)-1)\n",
    "            action = agent.commands[pos]\n",
    "            action_count += 1\n",
    "\n",
    "            observation, reward, done, info, _ = env.step(action)\n",
    "            agent.fitness += reward\n",
    "            action_frequency[action] += 1\n",
    "\n",
    "        final_observation = list(observation)\n",
    "\n",
    "\n",
    "        agent.features = (agent.fitness, agent.fitness)\n",
    "        agent.action_count = action_count"
   ]
  },
  {
   "cell_type": "code",
   "execution_count": null,
   "metadata": {
    "id": "ZDGPNuMol0q6"
   },
   "outputs": [],
   "source": []
  },
  {
   "cell_type": "code",
   "execution_count": 5,
   "metadata": {
    "id": "eH4YTnxlvYkt"
   },
   "outputs": [],
   "source": [
    "def create_sequence(sequence_length=-1):\n",
    "  #Generate random action sequence, length of 100\n",
    "  sequence = \"\"\n",
    "  for i in range(100):\n",
    "    new_action = random.randint(0, 3)\n",
    "    sequence += str(new_action)\n",
    "\n",
    "  return sequence\n"
   ]
  },
  {
   "cell_type": "code",
   "execution_count": 6,
   "metadata": {
    "id": "w_SY_4lqd69W"
   },
   "outputs": [],
   "source": [
    "game_eva = GameEvaluator()\n",
    "class Agent:\n",
    "    def __init__(self, sequence_length=10, action_sequence=str(0000000000)):\n",
    "        #Starts at 0 and is updated during simulation\n",
    "        self.fitness = 0\n",
    "        self.action_count = 0\n",
    "        self.features = (0,0)\n",
    "\n",
    "        #The length of the sequence and the commands the agent can take (0,1,2,or 3)\n",
    "        self.commands = [int(char) for char in action_sequence]\n",
    "        #print(self.commands)\n",
    "        self.sequence_length = len(self.commands)\n",
    "\n",
    "        self.simulate_agent()\n",
    "\n",
    "    #Mutates the agent\n",
    "    def mutate(self):\n",
    "\n",
    "      pass\n",
    "\n",
    "    def is_feasible(self):\n",
    "        #Need to fix by better defining feasiblity\n",
    "        return self.fitness > -500\n",
    "\n",
    "\n",
    "    def simulate_agent(self):\n",
    "      game_eva.run(self)\n"
   ]
  },
  {
   "cell_type": "code",
   "execution_count": 7,
   "metadata": {
    "id": "lPpcARS_7Vdm"
   },
   "outputs": [],
   "source": [
    "#This is to make it easier to round\n",
    "def round_nearest(x, a):\n",
    "    return round(round(x / a) * a, 2)"
   ]
  },
  {
   "cell_type": "markdown",
   "metadata": {
    "id": "-4p0_Pv4U_UH"
   },
   "source": [
    "# Map-Elites Creation\n"
   ]
  },
  {
   "cell_type": "code",
   "execution_count": 8,
   "metadata": {
    "id": "GcIR7NlY0hCO"
   },
   "outputs": [],
   "source": [
    "#NOTE: Right now assumed that the values are integers, so doesn't work with the lunarlander\n",
    "# Define the Simulation class\n",
    "\n",
    "#INPUTl The bounds, the step (ie distance between bounds), the number of generations wanted\n",
    "def map_elites(bounds = [(-2000,1000),(-2000,1000)], step=1, num_generations = 10000):\n",
    "\n",
    "\n",
    "    #bounds is the dimensions of the search space\n",
    "    #num_bins is the number of bins in each section of the map.\n",
    "\n",
    "    #NUM BINS CALCULATION\n",
    "    # BINS1 = (ABS(BOUND1) + ABS(BOUND2) + 1 ) / STEP\n",
    "\n",
    "    bins1 = (abs(bounds[0][0]) + abs(bounds[0][1]) + 1) / step\n",
    "    bins2 = (abs(bounds[1][0]) + abs(bounds[1][1]) + 1) / step\n",
    "    num_bins = [bins1, bins2]\n",
    "\n",
    "\n",
    "    #Here we want to create 2 maps. One for feasible and one for infeasible\n",
    "    map_elites_infeasible = {}\n",
    "    map_elites_feasible = {}\n",
    "    for i in np.arange(bounds[0][0], bounds[0][1] + 1, step):\n",
    "        #Have to round because arange gives miscallenious values\n",
    "        #ie it gives 8e-12 instead of 0, or 2.5000000007 instead of 2.5\n",
    "        i = round_nearest(i, step)\n",
    "        for j in np.arange(bounds[1][0], bounds[1][1] + 1, step):\n",
    "            j = round_nearest(j,step)\n",
    "            map_elites_feasible[(i, j)] = {'solution': None, 'fitness': -np.inf}\n",
    "            map_elites_infeasible[(i, j)] = {'solution': None, 'fitness': -np.inf}\n",
    "\n",
    "    #For number of generations, create a new simulation\n",
    "    for i in range(num_generations):\n",
    "\n",
    "        #Create Agent\n",
    "        simul = Agent(action_sequence=create_sequence())\n",
    "\n",
    "\n",
    "\n",
    "        #Use the simulate x and y as placing points for the bins\n",
    "        bin_index = (round_nearest(simul.features[0], step), round_nearest(simul.features[1], step))\n",
    "\n",
    "        #If feasible put in one map-elites\n",
    "        if simul.is_feasible():\n",
    "            #If better score, replace\n",
    "            if simul.fitness > map_elites_feasible[bin_index]['fitness']:\n",
    "                #Solution is the new simulation\n",
    "                map_elites_feasible[bin_index]['solution'] = simul\n",
    "                #fitness is the new score\n",
    "                map_elites_feasible[bin_index]['fitness'] = simul.fitness\n",
    "        #If not feasible do the same in the non_feasible map_elites\n",
    "        else:\n",
    "            if simul.fitness > map_elites_infeasible[bin_index]['fitness']:\n",
    "                #Solution is the new simulation\n",
    "                map_elites_infeasible[bin_index]['solution'] = simul\n",
    "                #fitness is the new score\n",
    "                map_elites_infeasible[bin_index]['fitness'] = simul.fitness\n",
    "        #print(bin_index)\n",
    "        #print(map_elites_infeasible[bin_index]['fitness'])\n",
    "    #Return Syntax:\n",
    "    #\n",
    "\n",
    "    return (map_elites_feasible, map_elites_infeasible)\n",
    "\n",
    "\n",
    "\n",
    "\n"
   ]
  },
  {
   "cell_type": "markdown",
   "metadata": {
    "id": "SDUPkWQgVKO9"
   },
   "source": [
    "# Heat Map"
   ]
  },
  {
   "cell_type": "code",
   "execution_count": 9,
   "metadata": {
    "id": "Zms_ppsOVHTW"
   },
   "outputs": [],
   "source": [
    "def map_elites_to_heatmap(map_elite_dict, num_bins=[23,23],  bounds = [(-200,100),(-200,100)], step=1):\n",
    "\n",
    "    #Calculate the number of square needed. The calculation is based on the range of the bounds\n",
    "    #divided by the step size.\n",
    "    #Note: added +1 to account for 0\n",
    "\n",
    "    #Get the keys\n",
    "    row_keys = np.arange(bounds[0][0], bounds[0][1] + 1, step)\n",
    "    col_keys = np.arange(bounds[1][0], bounds[1][1] + 1, step)\n",
    "\n",
    "    #Fixed values\n",
    "    #This stores the values that are going to be \"fixed\" (rounded) later on\n",
    "    row_keys_fixed = np.zeros(len(row_keys))\n",
    "    col_keys_fixed = np.zeros(len(row_keys))\n",
    "\n",
    "\n",
    "\n",
    "    num_rows = len(row_keys)\n",
    "    num_cols = len(col_keys)\n",
    "\n",
    "    num_bins = [num_rows, num_cols]\n",
    "\n",
    "\n",
    "    # Create an empty 2D array to represent the heatmap\n",
    "    heatmap = np.zeros((int(num_bins[0]), int(num_bins[1])))\n",
    "\n",
    "    # Populate the heatmap with the fitness values from the map elites\n",
    "\n",
    "    for x_index in range(len(row_keys)):\n",
    "      #Round the row key to fix decimal problems\n",
    "      i = round_nearest(row_keys[x_index], step)\n",
    "      row_keys[x_index] = i\n",
    "\n",
    "      for y_index in range(len(col_keys)):\n",
    "        j = round_nearest(col_keys[y_index], step)\n",
    "        col_keys[y_index] = j\n",
    "\n",
    "        #Put the value of the map-elite into the heatmap\n",
    "        map_val = map_elite_dict[(i,j)]['fitness']\n",
    "        if map_val > -5000:\n",
    "            heatmap[:,y_index] = np.full(heatmap[:,y_index].shape, map_val)\n",
    "        \n",
    "\n",
    "\n",
    "\n",
    "\n",
    "    # Create the heatmap plot\n",
    "    plt.imshow(heatmap.T, origin='lower', extent=[bounds[0][0], bounds[0][1], bounds[1][0], bounds[1][1]])\n",
    "    plt.colorbar(label='Value')\n",
    "\n",
    "    # Label the axes\n",
    "    plt.xlabel('X')\n",
    "    plt.ylabel('Y')\n",
    "\n",
    "    #Label so that the array matches the numbers\n",
    "    #plt.xticks(num_rows, row_keys)\n",
    "    #plt.yticks(num_cols, col_keys)\n",
    "    \n",
    "    print(heatmap)\n",
    "    # Show the plot\n",
    "    plt.show()\n",
    "\n",
    "\n",
    "\n",
    "\n",
    "\n",
    "\n",
    "\n",
    "\n",
    "\n",
    "def create_heatmap(data_dict):\n",
    "    # Extract the keys and values from the dictionary\n",
    "    keys = list(data_dict.keys())\n",
    "    values = list(data_dict.values())\n",
    "\n",
    "    print(keys)\n",
    "    print(values)\n",
    "\n",
    "    # Determine the size of the heatmap grid\n",
    "    x_values = sorted(set([key[0] for key in keys]))\n",
    "    y_values = sorted(set([key[1] for key in keys]))\n",
    "    num_rows = len(y_values)\n",
    "    num_cols = len(x_values)\n",
    "\n",
    "    # Create an empty grid of zeros\n",
    "    heatmap_grid = np.zeros((num_rows, num_cols))\n",
    "\n",
    "    # Fill in the grid with the values from the dictionary\n",
    "    for i, key in enumerate(keys):\n",
    "        print(type(i))\n",
    "        print(type(key))\n",
    "        x_index = x_values.index(key[0])\n",
    "        y_index = y_values.index(key[1])\n",
    "\n",
    "        heatmap_grid[y_index, x_index] = values[i]\n",
    "\n",
    "    # Create the heatmap\n",
    "    plt.imshow(heatmap_grid, cmap='hot')\n",
    "    plt.colorbar(label='Value')\n",
    "\n",
    "    plt.xlabel('X')\n",
    "    plt.ylabel('Y')\n",
    "\n",
    "    # Customize the x-tick labels\n",
    "    #plt.xticks(range(num_cols), x_values)\n",
    "    #plt.yticks(range(num_rows), y_values)\n",
    "\n",
    "    plt.show()\n"
   ]
  },
  {
   "cell_type": "code",
   "execution_count": 10,
   "metadata": {
    "colab": {
     "base_uri": "https://localhost:8080/",
     "height": 1000
    },
    "id": "7wzDp1jS01Rt",
    "outputId": "955b28c0-833b-413c-fa0a-f9280d986b22"
   },
   "outputs": [
    {
     "name": "stdout",
     "output_type": "stream",
     "text": [
      "[[-199.50953984 -198.51409748 -197.5178182  ...    0.\n",
      "     0.            0.        ]\n",
      " [-199.50953984 -198.51409748 -197.5178182  ...    0.\n",
      "     0.            0.        ]\n",
      " [-199.50953984 -198.51409748 -197.5178182  ...    0.\n",
      "     0.            0.        ]\n",
      " ...\n",
      " [-199.50953984 -198.51409748 -197.5178182  ...    0.\n",
      "     0.            0.        ]\n",
      " [-199.50953984 -198.51409748 -197.5178182  ...    0.\n",
      "     0.            0.        ]\n",
      " [-199.50953984 -198.51409748 -197.5178182  ...    0.\n",
      "     0.            0.        ]]\n"
     ]
    },
    {
     "data": {
      "image/png": "[encoded data removed]",
      "text/plain": [
       "<Figure size 640x480 with 2 Axes>"
      ]
     },
     "metadata": {},
     "output_type": "display_data"
    },
    {
     "name": "stdout",
     "output_type": "stream",
     "text": [
      "[[0. 0. 0. ... 0. 0. 0.]\n",
      " [0. 0. 0. ... 0. 0. 0.]\n",
      " [0. 0. 0. ... 0. 0. 0.]\n",
      " ...\n",
      " [0. 0. 0. ... 0. 0. 0.]\n",
      " [0. 0. 0. ... 0. 0. 0.]\n",
      " [0. 0. 0. ... 0. 0. 0.]]\n"
     ]
    },
    {
     "data": {
      "image/png": "[encoded data removed]",
      "text/plain": [
       "<Figure size 640x480 with 2 Axes>"
      ]
     },
     "metadata": {},
     "output_type": "display_data"
    }
   ],
   "source": [
    "    #bounds\n",
    "    map_bounds = [(-2000, 1000), (-2000, 1000)]\n",
    "    \n",
    "    #Creates the map elites\n",
    "    ME = map_elites()\n",
    "\n",
    "    #Creates the heatmaps and displays them\n",
    "    map_elites_to_heatmap(ME[0])\n",
    "    map_elites_to_heatmap(ME[1])"
   ]
  }
 ],
 "metadata": {
  "accelerator": "GPU",
  "colab": {
   "gpuType": "T4",
   "provenance": []
  },
  "kernelspec": {
   "display_name": "Python 3 (ipykernel)",
   "language": "python",
   "name": "python3"
  },
  "language_info": {
   "codemirror_mode": {
    "name": "ipython",
    "version": 3
   },
   "file_extension": ".py",
   "mimetype": "text/x-python",
   "name": "python",
   "nbconvert_exporter": "python",
   "pygments_lexer": "ipython3",
   "version": "3.10.8"
  }
 },
 "nbformat": 4,
 "nbformat_minor": 1
}
